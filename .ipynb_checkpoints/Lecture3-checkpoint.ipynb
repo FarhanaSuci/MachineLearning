{
 "cells": [
  {
   "cell_type": "markdown",
   "id": "2d9c5671-903c-46b0-97b9-ba1bbb38c5f8",
   "metadata": {},
   "source": [
    "# Chapter 9\n",
    "# Evaluate the Performance of Machine\n",
    "# Learning Algorithms with Resampling"
   ]
  },
  {
   "cell_type": "markdown",
   "id": "af064de7-074c-4bb7-b9ce-38b0e435384c",
   "metadata": {},
   "source": [
    "#  9.1 Evaluate Machine Learning Algorithms"
   ]
  },
  {
   "cell_type": "markdown",
   "id": "e9223822-59dc-485c-b783-ce37ca40e325",
   "metadata": {},
   "source": [
    "**1.Train and Test Sets.**"
   ]
  },
  {
   "cell_type": "markdown",
   "id": "cbe3e976-93b9-44a0-8d42-714fa299f6a2",
   "metadata": {},
   "source": [
    "**2.k-fold Cross Validation.**"
   ]
  },
  {
   "cell_type": "markdown",
   "id": "97fc44eb-1fa4-46dd-8aa9-f96ec5a68a0a",
   "metadata": {},
   "source": [
    "**3.Leave One Out Cross Validation**"
   ]
  },
  {
   "cell_type": "markdown",
   "id": "7bb3f706-0ff6-4213-b8ee-82d85786a035",
   "metadata": {},
   "source": [
    "**4.Repeated Random Test-Train Splits**"
   ]
  },
  {
   "cell_type": "code",
   "execution_count": 22,
   "id": "451cf690-14f9-49e8-a638-4f0b1cf8925a",
   "metadata": {},
   "outputs": [],
   "source": [
    "import pandas as pd"
   ]
  },
  {
   "cell_type": "code",
   "execution_count": 23,
   "id": "00558607-368b-4d43-9a00-6ca6033566e0",
   "metadata": {},
   "outputs": [],
   "source": [
    "names = ['preg', 'plas', 'pres', 'skin', 'test', 'mass', 'pedi', 'age', 'class']"
   ]
  },
  {
   "cell_type": "code",
   "execution_count": 24,
   "id": "b709649f-6ca6-4c04-a5d9-73704d93e651",
   "metadata": {},
   "outputs": [],
   "source": [
    "data=pd.read_csv('pima-indians-diabetes.csv',names=names)"
   ]
  },
  {
   "cell_type": "code",
   "execution_count": 25,
   "id": "695120a6-2594-4cd2-a71f-22de92fe8bb5",
   "metadata": {},
   "outputs": [
    {
     "data": {
      "text/html": [
       "<div>\n",
       "<style scoped>\n",
       "    .dataframe tbody tr th:only-of-type {\n",
       "        vertical-align: middle;\n",
       "    }\n",
       "\n",
       "    .dataframe tbody tr th {\n",
       "        vertical-align: top;\n",
       "    }\n",
       "\n",
       "    .dataframe thead th {\n",
       "        text-align: right;\n",
       "    }\n",
       "</style>\n",
       "<table border=\"1\" class=\"dataframe\">\n",
       "  <thead>\n",
       "    <tr style=\"text-align: right;\">\n",
       "      <th></th>\n",
       "      <th>preg</th>\n",
       "      <th>plas</th>\n",
       "      <th>pres</th>\n",
       "      <th>skin</th>\n",
       "      <th>test</th>\n",
       "      <th>mass</th>\n",
       "      <th>pedi</th>\n",
       "      <th>age</th>\n",
       "      <th>class</th>\n",
       "    </tr>\n",
       "  </thead>\n",
       "  <tbody>\n",
       "    <tr>\n",
       "      <th>0</th>\n",
       "      <td>6</td>\n",
       "      <td>148</td>\n",
       "      <td>72</td>\n",
       "      <td>35</td>\n",
       "      <td>0</td>\n",
       "      <td>33.6</td>\n",
       "      <td>0.627</td>\n",
       "      <td>50</td>\n",
       "      <td>1</td>\n",
       "    </tr>\n",
       "    <tr>\n",
       "      <th>1</th>\n",
       "      <td>1</td>\n",
       "      <td>85</td>\n",
       "      <td>66</td>\n",
       "      <td>29</td>\n",
       "      <td>0</td>\n",
       "      <td>26.6</td>\n",
       "      <td>0.351</td>\n",
       "      <td>31</td>\n",
       "      <td>0</td>\n",
       "    </tr>\n",
       "    <tr>\n",
       "      <th>2</th>\n",
       "      <td>8</td>\n",
       "      <td>183</td>\n",
       "      <td>64</td>\n",
       "      <td>0</td>\n",
       "      <td>0</td>\n",
       "      <td>23.3</td>\n",
       "      <td>0.672</td>\n",
       "      <td>32</td>\n",
       "      <td>1</td>\n",
       "    </tr>\n",
       "    <tr>\n",
       "      <th>3</th>\n",
       "      <td>1</td>\n",
       "      <td>89</td>\n",
       "      <td>66</td>\n",
       "      <td>23</td>\n",
       "      <td>94</td>\n",
       "      <td>28.1</td>\n",
       "      <td>0.167</td>\n",
       "      <td>21</td>\n",
       "      <td>0</td>\n",
       "    </tr>\n",
       "    <tr>\n",
       "      <th>4</th>\n",
       "      <td>0</td>\n",
       "      <td>137</td>\n",
       "      <td>40</td>\n",
       "      <td>35</td>\n",
       "      <td>168</td>\n",
       "      <td>43.1</td>\n",
       "      <td>2.288</td>\n",
       "      <td>33</td>\n",
       "      <td>1</td>\n",
       "    </tr>\n",
       "    <tr>\n",
       "      <th>...</th>\n",
       "      <td>...</td>\n",
       "      <td>...</td>\n",
       "      <td>...</td>\n",
       "      <td>...</td>\n",
       "      <td>...</td>\n",
       "      <td>...</td>\n",
       "      <td>...</td>\n",
       "      <td>...</td>\n",
       "      <td>...</td>\n",
       "    </tr>\n",
       "    <tr>\n",
       "      <th>763</th>\n",
       "      <td>10</td>\n",
       "      <td>101</td>\n",
       "      <td>76</td>\n",
       "      <td>48</td>\n",
       "      <td>180</td>\n",
       "      <td>32.9</td>\n",
       "      <td>0.171</td>\n",
       "      <td>63</td>\n",
       "      <td>0</td>\n",
       "    </tr>\n",
       "    <tr>\n",
       "      <th>764</th>\n",
       "      <td>2</td>\n",
       "      <td>122</td>\n",
       "      <td>70</td>\n",
       "      <td>27</td>\n",
       "      <td>0</td>\n",
       "      <td>36.8</td>\n",
       "      <td>0.340</td>\n",
       "      <td>27</td>\n",
       "      <td>0</td>\n",
       "    </tr>\n",
       "    <tr>\n",
       "      <th>765</th>\n",
       "      <td>5</td>\n",
       "      <td>121</td>\n",
       "      <td>72</td>\n",
       "      <td>23</td>\n",
       "      <td>112</td>\n",
       "      <td>26.2</td>\n",
       "      <td>0.245</td>\n",
       "      <td>30</td>\n",
       "      <td>0</td>\n",
       "    </tr>\n",
       "    <tr>\n",
       "      <th>766</th>\n",
       "      <td>1</td>\n",
       "      <td>126</td>\n",
       "      <td>60</td>\n",
       "      <td>0</td>\n",
       "      <td>0</td>\n",
       "      <td>30.1</td>\n",
       "      <td>0.349</td>\n",
       "      <td>47</td>\n",
       "      <td>1</td>\n",
       "    </tr>\n",
       "    <tr>\n",
       "      <th>767</th>\n",
       "      <td>1</td>\n",
       "      <td>93</td>\n",
       "      <td>70</td>\n",
       "      <td>31</td>\n",
       "      <td>0</td>\n",
       "      <td>30.4</td>\n",
       "      <td>0.315</td>\n",
       "      <td>23</td>\n",
       "      <td>0</td>\n",
       "    </tr>\n",
       "  </tbody>\n",
       "</table>\n",
       "<p>768 rows × 9 columns</p>\n",
       "</div>"
      ],
      "text/plain": [
       "     preg  plas  pres  skin  test  mass   pedi  age  class\n",
       "0       6   148    72    35     0  33.6  0.627   50      1\n",
       "1       1    85    66    29     0  26.6  0.351   31      0\n",
       "2       8   183    64     0     0  23.3  0.672   32      1\n",
       "3       1    89    66    23    94  28.1  0.167   21      0\n",
       "4       0   137    40    35   168  43.1  2.288   33      1\n",
       "..    ...   ...   ...   ...   ...   ...    ...  ...    ...\n",
       "763    10   101    76    48   180  32.9  0.171   63      0\n",
       "764     2   122    70    27     0  36.8  0.340   27      0\n",
       "765     5   121    72    23   112  26.2  0.245   30      0\n",
       "766     1   126    60     0     0  30.1  0.349   47      1\n",
       "767     1    93    70    31     0  30.4  0.315   23      0\n",
       "\n",
       "[768 rows x 9 columns]"
      ]
     },
     "execution_count": 25,
     "metadata": {},
     "output_type": "execute_result"
    }
   ],
   "source": [
    "data"
   ]
  },
  {
   "cell_type": "markdown",
   "id": "cbf178d7-0717-4c74-b46b-a09c25006071",
   "metadata": {},
   "source": [
    "#  9.2 Split into Train and Test Sets"
   ]
  },
  {
   "cell_type": "code",
   "execution_count": 26,
   "id": "19826a89-b2bd-4b0d-b7bb-1c2edb85df0e",
   "metadata": {},
   "outputs": [],
   "source": [
    "import warnings"
   ]
  },
  {
   "cell_type": "code",
   "execution_count": 27,
   "id": "d734eca0-eb49-41c3-8ee0-f4c0fc91d033",
   "metadata": {},
   "outputs": [],
   "source": [
    "warnings.filterwarnings('ignore')"
   ]
  },
  {
   "cell_type": "code",
   "execution_count": 30,
   "id": "c61322bb-7469-42b5-b7a6-998777b29463",
   "metadata": {},
   "outputs": [
    {
     "name": "stdout",
     "output_type": "stream",
     "text": [
      "78.74015748031496\n"
     ]
    }
   ],
   "source": [
    " from sklearn.model_selection import train_test_split\n",
    " from sklearn.linear_model import LogisticRegression\n",
    " array = data.values\n",
    " X = array[:,0:8]\n",
    " Y = array[:,8]\n",
    " test_size = 0.33\n",
    " seed = 7\n",
    " X_train, X_test, Y_train, Y_test = train_test_split(X, Y, test_size=test_size,\n",
    " random_state=seed)\n",
    " model = LogisticRegression()\n",
    " model.fit(X_train, Y_train)\n",
    " result = model.score(X_test, Y_test)\n",
    " print((result*100.0))"
   ]
  },
  {
   "cell_type": "markdown",
   "id": "b24ef92d-db7b-4f71-9f38-6156f80eca13",
   "metadata": {},
   "source": [
    "#  9.3 K-fold Cross Validation"
   ]
  },
  {
   "cell_type": "code",
   "execution_count": 38,
   "id": "b6c7ed38-2672-4bf8-9d27-85fbe2cd587f",
   "metadata": {},
   "outputs": [
    {
     "name": "stdout",
     "output_type": "stream",
     "text": [
      "Accuracy:  76.69213139801376\n"
     ]
    }
   ],
   "source": [
    "from sklearn.model_selection import KFold\n",
    "from sklearn.model_selection import cross_val_score\n",
    "from sklearn.linear_model import LogisticRegression\n",
    "import numpy as np\n",
    "\n",
    "# Assuming array is defined as a NumPy array\n",
    "X = array[:, 0:8]\n",
    "Y = array[:, 8]\n",
    "num_folds = 5\n",
    "seed = 8\n",
    "\n",
    "# Corrected KFold initialization\n",
    "kfold = KFold(n_splits=num_folds, random_state=seed, shuffle=True)\n",
    "model = LogisticRegression()\n",
    "results = cross_val_score(model, X, Y, cv=kfold)\n",
    "print(\"Accuracy: \", results.mean() * 100.0)"
   ]
  },
  {
   "cell_type": "markdown",
   "id": "b66b88c3-0d1f-43e1-afdb-a85960f5e6fb",
   "metadata": {},
   "source": [
    "#  9.4 Leave One Out Cross Validation"
   ]
  },
  {
   "cell_type": "code",
   "execution_count": 39,
   "id": "8b00e0c4-3764-48dc-9a05-a0d69147c724",
   "metadata": {},
   "outputs": [],
   "source": [
    "from sklearn.model_selection import LeaveOneOut"
   ]
  },
  {
   "cell_type": "code",
   "execution_count": 40,
   "id": "19e46f91-25b7-47c7-bd21-5218a76b7b7c",
   "metadata": {},
   "outputs": [
    {
     "name": "stdout",
     "output_type": "stream",
     "text": [
      "Accuracy:  77.86458333333334\n"
     ]
    }
   ],
   "source": [
    " X = array[:,0:8]\n",
    " Y = array[:,8]\n",
    " loocv = LeaveOneOut()\n",
    " model = LogisticRegression()\n",
    " results = cross_val_score(model, X, Y, cv=loocv)\n",
    " print(\"Accuracy: \", results.mean() * 100.0)"
   ]
  },
  {
   "cell_type": "code",
   "execution_count": 41,
   "id": "d194d10b-6dcd-41aa-abe4-bad81a60048e",
   "metadata": {},
   "outputs": [
    {
     "data": {
      "text/plain": [
       "(768, 9)"
      ]
     },
     "execution_count": 41,
     "metadata": {},
     "output_type": "execute_result"
    }
   ],
   "source": [
    "data.shape"
   ]
  },
  {
   "cell_type": "code",
   "execution_count": 42,
   "id": "3bacf4d8-7d06-44ff-a103-7b27d8e326d7",
   "metadata": {},
   "outputs": [
    {
     "name": "stdout",
     "output_type": "stream",
     "text": [
      "Accuracy:  77.86458333333334\n"
     ]
    }
   ],
   "source": [
    "from sklearn.model_selection import KFold\n",
    "from sklearn.model_selection import cross_val_score\n",
    "from sklearn.linear_model import LogisticRegression\n",
    "import numpy as np\n",
    "\n",
    "# Assuming array is defined as a NumPy array\n",
    "X = array[:, 0:8]\n",
    "Y = array[:, 8]\n",
    "num_folds = 768\n",
    "seed = 8\n",
    "\n",
    "# Corrected KFold initialization\n",
    "kfold = KFold(n_splits=num_folds, random_state=seed, shuffle=True)\n",
    "model = LogisticRegression()\n",
    "results = cross_val_score(model, X, Y, cv=kfold)\n",
    "print(\"Accuracy: \", results.mean() * 100.0)"
   ]
  },
  {
   "cell_type": "markdown",
   "id": "49f746a6-816c-4632-8bf0-4056a6103643",
   "metadata": {},
   "source": [
    "# 9.5 Repeated Random Test-Train Splits"
   ]
  },
  {
   "cell_type": "code",
   "execution_count": 46,
   "id": "04c028ab-2a64-4500-985b-dc4b9747fb3a",
   "metadata": {},
   "outputs": [],
   "source": [
    " from sklearn.model_selection import ShuffleSplit\n",
    " from sklearn.model_selection import cross_val_score\n",
    " from sklearn.linear_model import LogisticRegression"
   ]
  },
  {
   "cell_type": "code",
   "execution_count": 47,
   "id": "e03708b3-bd3f-41f4-90d5-8dd0bbcaf069",
   "metadata": {},
   "outputs": [],
   "source": [
    " array = data.values\n",
    " X = array[:,0:8]\n",
    " Y = array[:,8]\n",
    " n_splits = 10\n",
    " test_size = 0.33\n"
   ]
  },
  {
   "cell_type": "code",
   "execution_count": 48,
   "id": "8a7ddf60-defc-4689-9a85-c0a7b3c538a2",
   "metadata": {},
   "outputs": [
    {
     "name": "stdout",
     "output_type": "stream",
     "text": [
      "[0.78740157 0.73622047 0.7992126  0.79133858 0.76377953 0.80708661\n",
      " 0.72834646 0.79527559 0.76771654 0.72834646]\n"
     ]
    }
   ],
   "source": [
    " seed = 7\n",
    " kfold = ShuffleSplit(n_splits=n_splits, test_size=test_size, random_state=seed)\n",
    " model = LogisticRegression()\n",
    " results = cross_val_score(model, X, Y, cv=kfold)\n",
    " print(results)\n",
    " #print(\"Accuracy: %.3f%% (%.3f%%)\") % (results.mean()*100.0, results.std()*100.0)"
   ]
  },
  {
   "cell_type": "code",
   "execution_count": 49,
   "id": "c9963e6e-58bf-40d3-bff0-f8e395de2e9b",
   "metadata": {},
   "outputs": [
    {
     "name": "stdout",
     "output_type": "stream",
     "text": [
      "77.04724409448819\n"
     ]
    }
   ],
   "source": [
    "print(results.mean()*100.0)"
   ]
  },
  {
   "cell_type": "code",
   "execution_count": 50,
   "id": "750deaca-d604-4af2-9185-73fe83ac97e2",
   "metadata": {},
   "outputs": [
    {
     "name": "stdout",
     "output_type": "stream",
     "text": [
      "[0.78740157 0.73622047 0.7992126  0.79133858 0.76377953 0.80708661\n",
      " 0.72834646 0.79527559 0.76771654 0.72834646 0.77952756 0.7519685\n",
      " 0.7992126  0.75590551 0.75590551 0.73228346 0.74015748 0.76377953\n",
      " 0.75590551 0.78346457]\n"
     ]
    }
   ],
   "source": [
    " seed = 7\n",
    " n_splits = 20\n",
    " kfold = ShuffleSplit(n_splits=n_splits, test_size=test_size, random_state=seed)\n",
    " model = LogisticRegression()\n",
    " results = cross_val_score(model, X, Y, cv=kfold)\n",
    " print(results)"
   ]
  },
  {
   "cell_type": "code",
   "execution_count": 51,
   "id": "d781ddf7-843d-487a-810a-fa5b5b13dd68",
   "metadata": {},
   "outputs": [
    {
     "name": "stdout",
     "output_type": "stream",
     "text": [
      "76.61417322834646\n"
     ]
    }
   ],
   "source": [
    "print(results.mean()*100.0)"
   ]
  },
  {
   "cell_type": "code",
   "execution_count": null,
   "id": "e5ba60f9-2184-462d-b715-c71f5b84ec81",
   "metadata": {},
   "outputs": [],
   "source": []
  }
 ],
 "metadata": {
  "kernelspec": {
   "display_name": "Python 3 (ipykernel)",
   "language": "python",
   "name": "python3"
  },
  "language_info": {
   "codemirror_mode": {
    "name": "ipython",
    "version": 3
   },
   "file_extension": ".py",
   "mimetype": "text/x-python",
   "name": "python",
   "nbconvert_exporter": "python",
   "pygments_lexer": "ipython3",
   "version": "3.12.3"
  }
 },
 "nbformat": 4,
 "nbformat_minor": 5
}
