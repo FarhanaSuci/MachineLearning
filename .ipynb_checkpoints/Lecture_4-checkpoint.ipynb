{
 "cells": [
  {
   "cell_type": "markdown",
   "id": "26134e29-2582-4e80-9023-87d5bbdaa695",
   "metadata": {},
   "source": [
    "# Chapter 10"
   ]
  },
  {
   "cell_type": "markdown",
   "id": "5b6d6693-5796-49cc-b966-f51406cacac7",
   "metadata": {},
   "source": [
    "# Machine Learning Algorithm Performance Metrics"
   ]
  },
  {
   "cell_type": "markdown",
   "id": "86069ecb-d468-4299-89d4-285e63424764",
   "metadata": {},
   "source": [
    "# 10.2 Classification Metrics"
   ]
  },
  {
   "cell_type": "markdown",
   "id": "e61ccc7a-fa5f-41f3-9642-ced570039b4c",
   "metadata": {},
   "source": [
    "**1.Classification Accuracy.**"
   ]
  },
  {
   "cell_type": "markdown",
   "id": "822c3756-ed2c-4e6c-9151-cfff07c1be37",
   "metadata": {},
   "source": [
    "**2.Logarithmic Loss**"
   ]
  },
  {
   "cell_type": "markdown",
   "id": "51cad191-6a66-4f3c-abee-066e4d4a271b",
   "metadata": {},
   "source": [
    "**3. Area Under ROC Curve.**"
   ]
  },
  {
   "cell_type": "markdown",
   "id": "0c60c0a6-8b63-4988-9e21-82935b3fb1d4",
   "metadata": {},
   "source": [
    "**4. Confusion Matrix.**"
   ]
  },
  {
   "cell_type": "markdown",
   "id": "943365f6-1072-45e0-a598-a14664bb5190",
   "metadata": {},
   "source": [
    "**5.Classification Report**"
   ]
  },
  {
   "cell_type": "markdown",
   "id": "6e5491d0-8083-4b74-ab5b-487f67fd7b82",
   "metadata": {},
   "source": [
    "#  10.2.1 Classification Accuracy"
   ]
  },
  {
   "cell_type": "code",
   "execution_count": 4,
   "id": "c45acc73-c0a6-4a95-8198-45c12a61ced0",
   "metadata": {},
   "outputs": [
    {
     "name": "stdout",
     "output_type": "stream",
     "text": [
      "0.7708304853041694\n"
     ]
    }
   ],
   "source": [
    "# Cross Validation Classification Accuracy\n",
    "from pandas import read_csv\n",
    "from sklearn.model_selection import KFold\n",
    "from sklearn.model_selection import cross_val_score\n",
    "from sklearn.linear_model import LogisticRegression\n",
    "import warnings\n",
    "warnings.filterwarnings(\"ignore\")\n",
    "filename = 'pima-indians-diabetes.csv'\n",
    "names = ['preg', 'plas', 'pres', 'skin', 'test', 'mass', 'pedi', 'age', 'class']\n",
    "dataframe = read_csv(filename, names=names)\n",
    "array = dataframe.values\n",
    "X = array[:,0:8]\n",
    "Y = array[:,8]\n",
    "kfold = KFold(n_splits=10)\n",
    "model = LogisticRegression()\n",
    "scoring = 'accuracy'\n",
    "results = cross_val_score(model, X, Y, cv=kfold, scoring=scoring)\n",
    "print(results.mean())"
   ]
  },
  {
   "cell_type": "markdown",
   "id": "3be65020-c880-4f7d-9b2d-2419a5aa1c34",
   "metadata": {},
   "source": [
    "# 10.2.2 Logarithmic Loss"
   ]
  },
  {
   "cell_type": "code",
   "execution_count": 5,
   "id": "88deba9b-d7f2-44c2-93a8-13353cf2cb7d",
   "metadata": {},
   "outputs": [
    {
     "name": "stdout",
     "output_type": "stream",
     "text": [
      "-0.4852881523437905\n"
     ]
    }
   ],
   "source": [
    " # Cross Validation Classification LogLoss\n",
    " from pandas import read_csv\n",
    " from sklearn.model_selection import KFold\n",
    " from sklearn.model_selection import cross_val_score\n",
    " from sklearn.linear_model import LogisticRegression\n",
    " import warnings\n",
    " warnings.filterwarnings(\"ignore\")\n",
    " filename = 'pima-indians-diabetes.csv'\n",
    " names = ['preg', 'plas', 'pres', 'skin', 'test', 'mass', 'pedi', 'age', 'class']\n",
    " dataframe = read_csv(filename, names=names)\n",
    " array = dataframe.values\n",
    " X = array[:,0:8]\n",
    " Y = array[:,8]\n",
    " kfold = KFold(n_splits=10)\n",
    " model = LogisticRegression()\n",
    " scoring = 'neg_log_loss'\n",
    " results = cross_val_score(model, X, Y, cv=kfold, scoring=scoring)\n",
    " print(results.mean())"
   ]
  },
  {
   "cell_type": "markdown",
   "id": "82b18bf8-dcf7-4e88-8fd2-ec8283c4a13b",
   "metadata": {},
   "source": [
    "# 10.2.3 Area Under ROC Curve"
   ]
  },
  {
   "cell_type": "code",
   "execution_count": 6,
   "id": "47c15e5f-feba-4248-9f0c-dbf1f8e52c36",
   "metadata": {},
   "outputs": [
    {
     "name": "stdout",
     "output_type": "stream",
     "text": [
      "[0.75416667 0.8553719  0.83036936 0.7893617  0.81037037 0.83262411\n",
      " 0.8015873  0.92153846 0.85576923 0.82391304]\n",
      "0.8275072147884718\n"
     ]
    }
   ],
   "source": [
    " # Cross Validation Classification ROC AUC\n",
    " from pandas import read_csv\n",
    " from sklearn.model_selection import KFold\n",
    " from sklearn.model_selection import cross_val_score\n",
    " from sklearn.linear_model import LogisticRegression\n",
    " import warnings\n",
    " warnings.filterwarnings(\"ignore\")\n",
    " filename = 'pima-indians-diabetes.csv'\n",
    " names = ['preg', 'plas', 'pres', 'skin', 'test', 'mass', 'pedi', 'age', 'class']\n",
    " dataframe = read_csv(filename, names=names)\n",
    " array = dataframe.values\n",
    " X = array[:,0:8]\n",
    " Y = array[:,8]\n",
    " kfold = KFold(n_splits=10)\n",
    " model = LogisticRegression()\n",
    " scoring = 'roc_auc'\n",
    " results = cross_val_score(model, X, Y, cv=kfold, scoring=scoring)\n",
    " print(results)\n",
    " print(results.mean())"
   ]
  },
  {
   "cell_type": "markdown",
   "id": "a4796874-b0ee-4cf9-ae6f-aed828077cf2",
   "metadata": {},
   "source": [
    "# 10.2.4 Confusion Matrix"
   ]
  },
  {
   "cell_type": "code",
   "execution_count": 8,
   "id": "e7f0e060-abb2-4942-be05-2b49030ff452",
   "metadata": {},
   "outputs": [
    {
     "name": "stdout",
     "output_type": "stream",
     "text": [
      "[[151  23]\n",
      " [ 32  48]]\n"
     ]
    }
   ],
   "source": [
    " from pandas import read_csv\n",
    " from sklearn.model_selection import train_test_split\n",
    " from sklearn.linear_model import LogisticRegression\n",
    " from sklearn.metrics import confusion_matrix\n",
    " import warnings\n",
    " warnings.filterwarnings(\"ignore\")\n",
    " filename = 'pima-indians-diabetes.csv'\n",
    " names = ['preg', 'plas', 'pres', 'skin', 'test', 'mass', 'pedi', 'age', 'class']\n",
    " dataframe = read_csv(filename, names=names)\n",
    " array = dataframe.values\n",
    " X = array[:,0:8]\n",
    " Y = array[:,8]\n",
    " test_size = 0.33\n",
    " X_train, X_test, Y_train, Y_test = train_test_split(X, Y, test_size=test_size)\n",
    " model = LogisticRegression()\n",
    " model.fit(X_train, Y_train)\n",
    " predicted = model.predict(X_test)\n",
    " matrix = confusion_matrix(Y_test, predicted)\n",
    " print(matrix)"
   ]
  },
  {
   "cell_type": "markdown",
   "id": "ace511df-c758-47dc-b920-c50df99d81cf",
   "metadata": {},
   "source": [
    "# 10.2.5 Classification Report"
   ]
  },
  {
   "cell_type": "code",
   "execution_count": 13,
   "id": "1347f474-7429-48a1-9db5-e1039737bec7",
   "metadata": {},
   "outputs": [
    {
     "name": "stdout",
     "output_type": "stream",
     "text": [
      "              precision    recall  f1-score   support\n",
      "\n",
      "         0.0       0.81      0.88      0.84       162\n",
      "         1.0       0.74      0.63      0.68        92\n",
      "\n",
      "    accuracy                           0.79       254\n",
      "   macro avg       0.78      0.75      0.76       254\n",
      "weighted avg       0.78      0.79      0.78       254\n",
      "\n"
     ]
    }
   ],
   "source": [
    " # Cross Validation Classification Report\n",
    " from pandas import read_csv\n",
    " from sklearn.model_selection import train_test_split\n",
    " from sklearn.linear_model import LogisticRegression #classification technique\n",
    " from sklearn.metrics import classification_report\n",
    " import warnings\n",
    " warnings.filterwarnings(\"ignore\")\n",
    " filename = 'pima-indians-diabetes.csv'\n",
    " names = ['preg', 'plas', 'pres', 'skin', 'test', 'mass', 'pedi', 'age', 'class']\n",
    " dataframe = read_csv(filename, names=names)\n",
    " array = dataframe.values\n",
    " X = array[:,0:8]\n",
    " Y = array[:,8]\n",
    " test_size = 0.33\n",
    " test_size = 0.33\n",
    " seed = 7\n",
    " X_train, X_test, Y_train, Y_test = train_test_split(X, Y, test_size=test_size,random_state=seed)\n",
    " model = LogisticRegression()\n",
    " model.fit(X_train, Y_train)\n",
    " predicted = model.predict(X_test)\n",
    " report = classification_report(Y_test, predicted)\n",
    " print(report)"
   ]
  },
  {
   "cell_type": "markdown",
   "id": "3376ed91-1bbe-4a34-ab03-2170fb35b605",
   "metadata": {},
   "source": [
    "# 10.3 Regression Metrics"
   ]
  },
  {
   "cell_type": "markdown",
   "id": "acc015b1-b00d-4c2b-a016-0a472ca57969",
   "metadata": {},
   "source": [
    "**1.Mean Absolute Error.**"
   ]
  },
  {
   "cell_type": "markdown",
   "id": "84b0dcbe-2537-4bd7-b876-3252d0a80ecc",
   "metadata": {},
   "source": [
    "**2.Mean Squared Error**"
   ]
  },
  {
   "cell_type": "markdown",
   "id": "95424241-49e2-460d-9b78-8adae4800fec",
   "metadata": {},
   "source": [
    "**3.R2**"
   ]
  },
  {
   "cell_type": "markdown",
   "id": "1e69a183-075e-41ca-93b3-2eb7321dde8e",
   "metadata": {},
   "source": [
    "# 10.3.1 Mean Absolute Error"
   ]
  },
  {
   "cell_type": "code",
   "execution_count": null,
   "id": "3e68e0bd-73a0-4fc8-8750-ec53bef18aa4",
   "metadata": {},
   "outputs": [],
   "source": []
  },
  {
   "cell_type": "code",
   "execution_count": 26,
   "id": "43b60cb9-0064-4fe1-8cb6-0dfb0f0c215c",
   "metadata": {},
   "outputs": [
    {
     "name": "stdout",
     "output_type": "stream",
     "text": [
      "[-1.41535268e-13 -4.89911142e-15 -3.40131963e-15 -9.34605928e-16\n",
      " -6.70170989e-16 -1.71262181e-15 -8.59394860e-16 -1.09994318e-15\n",
      " -5.53055544e-16 -1.91205076e-15]\n",
      "1.5757754248472402e-14\n"
     ]
    }
   ],
   "source": [
    "import pandas as pd\n",
    "from sklearn.model_selection import KFold\n",
    "from sklearn.model_selection import cross_val_score\n",
    "from sklearn.linear_model import LinearRegression\n",
    "\n",
    "# Load your data\n",
    "dataframe = pd.read_csv('housing.csv')\n",
    "\n",
    "# Convert categorical features to numeric\n",
    "dataframe = pd.get_dummies(dataframe)\n",
    "\n",
    "# Prepare data for modeling\n",
    "array = dataframe.values\n",
    "X = array[:, :-1]  # Adjust the indices if necessary\n",
    "Y = array[:, -1]   # Assuming the target variable is the last column\n",
    "\n",
    "# K-Fold Cross-Validation\n",
    "kfold = KFold(n_splits=10)\n",
    "model = LinearRegression()\n",
    "scoring = 'neg_mean_absolute_error'\n",
    "results = cross_val_score(model, X, Y, cv=kfold, scoring=scoring)\n",
    "\n",
    "# Output the mean MAE\n",
    "print(results)\n",
    "print(abs(results.mean()))  # Use abs to convert from negative MAE\n"
   ]
  },
  {
   "cell_type": "code",
   "execution_count": 25,
   "id": "0cb6f46c-59fe-4329-b827-92f4c48cbf70",
   "metadata": {},
   "outputs": [
    {
     "data": {
      "text/html": [
       "<div>\n",
       "<style scoped>\n",
       "    .dataframe tbody tr th:only-of-type {\n",
       "        vertical-align: middle;\n",
       "    }\n",
       "\n",
       "    .dataframe tbody tr th {\n",
       "        vertical-align: top;\n",
       "    }\n",
       "\n",
       "    .dataframe thead th {\n",
       "        text-align: right;\n",
       "    }\n",
       "</style>\n",
       "<table border=\"1\" class=\"dataframe\">\n",
       "  <thead>\n",
       "    <tr style=\"text-align: right;\">\n",
       "      <th></th>\n",
       "      <th>price</th>\n",
       "      <th>area</th>\n",
       "      <th>bedrooms</th>\n",
       "      <th>bathrooms</th>\n",
       "      <th>stories</th>\n",
       "      <th>parking</th>\n",
       "      <th>mainroad_no</th>\n",
       "      <th>mainroad_yes</th>\n",
       "      <th>guestroom_no</th>\n",
       "      <th>guestroom_yes</th>\n",
       "      <th>...</th>\n",
       "      <th>basement_yes</th>\n",
       "      <th>hotwaterheating_no</th>\n",
       "      <th>hotwaterheating_yes</th>\n",
       "      <th>airconditioning_no</th>\n",
       "      <th>airconditioning_yes</th>\n",
       "      <th>prefarea_no</th>\n",
       "      <th>prefarea_yes</th>\n",
       "      <th>furnishingstatus_furnished</th>\n",
       "      <th>furnishingstatus_semi-furnished</th>\n",
       "      <th>furnishingstatus_unfurnished</th>\n",
       "    </tr>\n",
       "  </thead>\n",
       "  <tbody>\n",
       "    <tr>\n",
       "      <th>0</th>\n",
       "      <td>13300000</td>\n",
       "      <td>7420</td>\n",
       "      <td>4</td>\n",
       "      <td>2</td>\n",
       "      <td>3</td>\n",
       "      <td>2</td>\n",
       "      <td>False</td>\n",
       "      <td>True</td>\n",
       "      <td>True</td>\n",
       "      <td>False</td>\n",
       "      <td>...</td>\n",
       "      <td>False</td>\n",
       "      <td>True</td>\n",
       "      <td>False</td>\n",
       "      <td>False</td>\n",
       "      <td>True</td>\n",
       "      <td>False</td>\n",
       "      <td>True</td>\n",
       "      <td>True</td>\n",
       "      <td>False</td>\n",
       "      <td>False</td>\n",
       "    </tr>\n",
       "    <tr>\n",
       "      <th>1</th>\n",
       "      <td>12250000</td>\n",
       "      <td>8960</td>\n",
       "      <td>4</td>\n",
       "      <td>4</td>\n",
       "      <td>4</td>\n",
       "      <td>3</td>\n",
       "      <td>False</td>\n",
       "      <td>True</td>\n",
       "      <td>True</td>\n",
       "      <td>False</td>\n",
       "      <td>...</td>\n",
       "      <td>False</td>\n",
       "      <td>True</td>\n",
       "      <td>False</td>\n",
       "      <td>False</td>\n",
       "      <td>True</td>\n",
       "      <td>True</td>\n",
       "      <td>False</td>\n",
       "      <td>True</td>\n",
       "      <td>False</td>\n",
       "      <td>False</td>\n",
       "    </tr>\n",
       "    <tr>\n",
       "      <th>2</th>\n",
       "      <td>12250000</td>\n",
       "      <td>9960</td>\n",
       "      <td>3</td>\n",
       "      <td>2</td>\n",
       "      <td>2</td>\n",
       "      <td>2</td>\n",
       "      <td>False</td>\n",
       "      <td>True</td>\n",
       "      <td>True</td>\n",
       "      <td>False</td>\n",
       "      <td>...</td>\n",
       "      <td>True</td>\n",
       "      <td>True</td>\n",
       "      <td>False</td>\n",
       "      <td>True</td>\n",
       "      <td>False</td>\n",
       "      <td>False</td>\n",
       "      <td>True</td>\n",
       "      <td>False</td>\n",
       "      <td>True</td>\n",
       "      <td>False</td>\n",
       "    </tr>\n",
       "    <tr>\n",
       "      <th>3</th>\n",
       "      <td>12215000</td>\n",
       "      <td>7500</td>\n",
       "      <td>4</td>\n",
       "      <td>2</td>\n",
       "      <td>2</td>\n",
       "      <td>3</td>\n",
       "      <td>False</td>\n",
       "      <td>True</td>\n",
       "      <td>True</td>\n",
       "      <td>False</td>\n",
       "      <td>...</td>\n",
       "      <td>True</td>\n",
       "      <td>True</td>\n",
       "      <td>False</td>\n",
       "      <td>False</td>\n",
       "      <td>True</td>\n",
       "      <td>False</td>\n",
       "      <td>True</td>\n",
       "      <td>True</td>\n",
       "      <td>False</td>\n",
       "      <td>False</td>\n",
       "    </tr>\n",
       "    <tr>\n",
       "      <th>4</th>\n",
       "      <td>11410000</td>\n",
       "      <td>7420</td>\n",
       "      <td>4</td>\n",
       "      <td>1</td>\n",
       "      <td>2</td>\n",
       "      <td>2</td>\n",
       "      <td>False</td>\n",
       "      <td>True</td>\n",
       "      <td>False</td>\n",
       "      <td>True</td>\n",
       "      <td>...</td>\n",
       "      <td>True</td>\n",
       "      <td>True</td>\n",
       "      <td>False</td>\n",
       "      <td>False</td>\n",
       "      <td>True</td>\n",
       "      <td>True</td>\n",
       "      <td>False</td>\n",
       "      <td>True</td>\n",
       "      <td>False</td>\n",
       "      <td>False</td>\n",
       "    </tr>\n",
       "    <tr>\n",
       "      <th>...</th>\n",
       "      <td>...</td>\n",
       "      <td>...</td>\n",
       "      <td>...</td>\n",
       "      <td>...</td>\n",
       "      <td>...</td>\n",
       "      <td>...</td>\n",
       "      <td>...</td>\n",
       "      <td>...</td>\n",
       "      <td>...</td>\n",
       "      <td>...</td>\n",
       "      <td>...</td>\n",
       "      <td>...</td>\n",
       "      <td>...</td>\n",
       "      <td>...</td>\n",
       "      <td>...</td>\n",
       "      <td>...</td>\n",
       "      <td>...</td>\n",
       "      <td>...</td>\n",
       "      <td>...</td>\n",
       "      <td>...</td>\n",
       "      <td>...</td>\n",
       "    </tr>\n",
       "    <tr>\n",
       "      <th>540</th>\n",
       "      <td>1820000</td>\n",
       "      <td>3000</td>\n",
       "      <td>2</td>\n",
       "      <td>1</td>\n",
       "      <td>1</td>\n",
       "      <td>2</td>\n",
       "      <td>False</td>\n",
       "      <td>True</td>\n",
       "      <td>True</td>\n",
       "      <td>False</td>\n",
       "      <td>...</td>\n",
       "      <td>True</td>\n",
       "      <td>True</td>\n",
       "      <td>False</td>\n",
       "      <td>True</td>\n",
       "      <td>False</td>\n",
       "      <td>True</td>\n",
       "      <td>False</td>\n",
       "      <td>False</td>\n",
       "      <td>False</td>\n",
       "      <td>True</td>\n",
       "    </tr>\n",
       "    <tr>\n",
       "      <th>541</th>\n",
       "      <td>1767150</td>\n",
       "      <td>2400</td>\n",
       "      <td>3</td>\n",
       "      <td>1</td>\n",
       "      <td>1</td>\n",
       "      <td>0</td>\n",
       "      <td>True</td>\n",
       "      <td>False</td>\n",
       "      <td>True</td>\n",
       "      <td>False</td>\n",
       "      <td>...</td>\n",
       "      <td>False</td>\n",
       "      <td>True</td>\n",
       "      <td>False</td>\n",
       "      <td>True</td>\n",
       "      <td>False</td>\n",
       "      <td>True</td>\n",
       "      <td>False</td>\n",
       "      <td>False</td>\n",
       "      <td>True</td>\n",
       "      <td>False</td>\n",
       "    </tr>\n",
       "    <tr>\n",
       "      <th>542</th>\n",
       "      <td>1750000</td>\n",
       "      <td>3620</td>\n",
       "      <td>2</td>\n",
       "      <td>1</td>\n",
       "      <td>1</td>\n",
       "      <td>0</td>\n",
       "      <td>False</td>\n",
       "      <td>True</td>\n",
       "      <td>True</td>\n",
       "      <td>False</td>\n",
       "      <td>...</td>\n",
       "      <td>False</td>\n",
       "      <td>True</td>\n",
       "      <td>False</td>\n",
       "      <td>True</td>\n",
       "      <td>False</td>\n",
       "      <td>True</td>\n",
       "      <td>False</td>\n",
       "      <td>False</td>\n",
       "      <td>False</td>\n",
       "      <td>True</td>\n",
       "    </tr>\n",
       "    <tr>\n",
       "      <th>543</th>\n",
       "      <td>1750000</td>\n",
       "      <td>2910</td>\n",
       "      <td>3</td>\n",
       "      <td>1</td>\n",
       "      <td>1</td>\n",
       "      <td>0</td>\n",
       "      <td>True</td>\n",
       "      <td>False</td>\n",
       "      <td>True</td>\n",
       "      <td>False</td>\n",
       "      <td>...</td>\n",
       "      <td>False</td>\n",
       "      <td>True</td>\n",
       "      <td>False</td>\n",
       "      <td>True</td>\n",
       "      <td>False</td>\n",
       "      <td>True</td>\n",
       "      <td>False</td>\n",
       "      <td>True</td>\n",
       "      <td>False</td>\n",
       "      <td>False</td>\n",
       "    </tr>\n",
       "    <tr>\n",
       "      <th>544</th>\n",
       "      <td>1750000</td>\n",
       "      <td>3850</td>\n",
       "      <td>3</td>\n",
       "      <td>1</td>\n",
       "      <td>2</td>\n",
       "      <td>0</td>\n",
       "      <td>False</td>\n",
       "      <td>True</td>\n",
       "      <td>True</td>\n",
       "      <td>False</td>\n",
       "      <td>...</td>\n",
       "      <td>False</td>\n",
       "      <td>True</td>\n",
       "      <td>False</td>\n",
       "      <td>True</td>\n",
       "      <td>False</td>\n",
       "      <td>True</td>\n",
       "      <td>False</td>\n",
       "      <td>False</td>\n",
       "      <td>False</td>\n",
       "      <td>True</td>\n",
       "    </tr>\n",
       "  </tbody>\n",
       "</table>\n",
       "<p>545 rows × 21 columns</p>\n",
       "</div>"
      ],
      "text/plain": [
       "        price  area  bedrooms  bathrooms  stories  parking  mainroad_no  \\\n",
       "0    13300000  7420         4          2        3        2        False   \n",
       "1    12250000  8960         4          4        4        3        False   \n",
       "2    12250000  9960         3          2        2        2        False   \n",
       "3    12215000  7500         4          2        2        3        False   \n",
       "4    11410000  7420         4          1        2        2        False   \n",
       "..        ...   ...       ...        ...      ...      ...          ...   \n",
       "540   1820000  3000         2          1        1        2        False   \n",
       "541   1767150  2400         3          1        1        0         True   \n",
       "542   1750000  3620         2          1        1        0        False   \n",
       "543   1750000  2910         3          1        1        0         True   \n",
       "544   1750000  3850         3          1        2        0        False   \n",
       "\n",
       "     mainroad_yes  guestroom_no  guestroom_yes  ...  basement_yes  \\\n",
       "0            True          True          False  ...         False   \n",
       "1            True          True          False  ...         False   \n",
       "2            True          True          False  ...          True   \n",
       "3            True          True          False  ...          True   \n",
       "4            True         False           True  ...          True   \n",
       "..            ...           ...            ...  ...           ...   \n",
       "540          True          True          False  ...          True   \n",
       "541         False          True          False  ...         False   \n",
       "542          True          True          False  ...         False   \n",
       "543         False          True          False  ...         False   \n",
       "544          True          True          False  ...         False   \n",
       "\n",
       "     hotwaterheating_no  hotwaterheating_yes  airconditioning_no  \\\n",
       "0                  True                False               False   \n",
       "1                  True                False               False   \n",
       "2                  True                False                True   \n",
       "3                  True                False               False   \n",
       "4                  True                False               False   \n",
       "..                  ...                  ...                 ...   \n",
       "540                True                False                True   \n",
       "541                True                False                True   \n",
       "542                True                False                True   \n",
       "543                True                False                True   \n",
       "544                True                False                True   \n",
       "\n",
       "     airconditioning_yes  prefarea_no  prefarea_yes  \\\n",
       "0                   True        False          True   \n",
       "1                   True         True         False   \n",
       "2                  False        False          True   \n",
       "3                   True        False          True   \n",
       "4                   True         True         False   \n",
       "..                   ...          ...           ...   \n",
       "540                False         True         False   \n",
       "541                False         True         False   \n",
       "542                False         True         False   \n",
       "543                False         True         False   \n",
       "544                False         True         False   \n",
       "\n",
       "     furnishingstatus_furnished  furnishingstatus_semi-furnished  \\\n",
       "0                          True                            False   \n",
       "1                          True                            False   \n",
       "2                         False                             True   \n",
       "3                          True                            False   \n",
       "4                          True                            False   \n",
       "..                          ...                              ...   \n",
       "540                       False                            False   \n",
       "541                       False                             True   \n",
       "542                       False                            False   \n",
       "543                        True                            False   \n",
       "544                       False                            False   \n",
       "\n",
       "     furnishingstatus_unfurnished  \n",
       "0                           False  \n",
       "1                           False  \n",
       "2                           False  \n",
       "3                           False  \n",
       "4                           False  \n",
       "..                            ...  \n",
       "540                          True  \n",
       "541                         False  \n",
       "542                          True  \n",
       "543                         False  \n",
       "544                          True  \n",
       "\n",
       "[545 rows x 21 columns]"
      ]
     },
     "execution_count": 25,
     "metadata": {},
     "output_type": "execute_result"
    }
   ],
   "source": [
    "dataframe"
   ]
  },
  {
   "cell_type": "markdown",
   "id": "0b85d543-9bd4-4eae-a7a1-b3754c9484da",
   "metadata": {},
   "source": [
    "# 10.3.2 Mean Squared Error"
   ]
  },
  {
   "cell_type": "code",
   "execution_count": 27,
   "id": "cdac2c57-8a49-45c1-bfa1-8b7f45009b33",
   "metadata": {},
   "outputs": [
    {
     "name": "stdout",
     "output_type": "stream",
     "text": [
      "[-2.19175079e-26 -2.59479211e-29 -1.28470032e-29 -1.14496885e-30\n",
      " -5.68338425e-31 -3.81351248e-30 -9.55032994e-31 -1.75416553e-30\n",
      " -4.65418804e-31 -3.85391421e-30]\n",
      "2.196885817601682e-27\n"
     ]
    }
   ],
   "source": [
    "import pandas as pd\n",
    "from sklearn.model_selection import KFold\n",
    "from sklearn.model_selection import cross_val_score\n",
    "from sklearn.linear_model import LinearRegression\n",
    "\n",
    "# Load your data\n",
    "dataframe = pd.read_csv('housing.csv')\n",
    "\n",
    "# Convert categorical features to numeric\n",
    "dataframe = pd.get_dummies(dataframe)\n",
    "\n",
    "# Prepare data for modeling\n",
    "array = dataframe.values\n",
    "X = array[:, :-1]  # Adjust the indices if necessary\n",
    "Y = array[:, -1]   # Assuming the target variable is the last column\n",
    "\n",
    "# K-Fold Cross-Validation\n",
    "kfold = KFold(n_splits=10)\n",
    "model = LinearRegression()\n",
    "scoring = 'neg_mean_squared_error'\n",
    "results = cross_val_score(model, X, Y, cv=kfold, scoring=scoring)\n",
    "\n",
    "# Output the mean MAE\n",
    "print(results)\n",
    "print(abs(results.mean()))  # Use abs to convert from negative MAE"
   ]
  },
  {
   "cell_type": "markdown",
   "id": "5865a9f2-8188-4cec-8938-853fcf3327e8",
   "metadata": {},
   "source": [
    "# 10.3.3 R2 Metric"
   ]
  },
  {
   "cell_type": "code",
   "execution_count": 28,
   "id": "78c01834-9b7c-449c-a100-fb376ea30436",
   "metadata": {},
   "outputs": [
    {
     "name": "stdout",
     "output_type": "stream",
     "text": [
      "[1. 1. 1. 1. 1. 1. 1. 1. 1. 1.]\n",
      "1.0\n"
     ]
    }
   ],
   "source": [
    "import pandas as pd\n",
    "from sklearn.model_selection import KFold\n",
    "from sklearn.model_selection import cross_val_score\n",
    "from sklearn.linear_model import LinearRegression\n",
    "\n",
    "# Load your data\n",
    "dataframe = pd.read_csv('housing.csv')\n",
    "\n",
    "# Convert categorical features to numeric\n",
    "dataframe = pd.get_dummies(dataframe)\n",
    "\n",
    "# Prepare data for modeling\n",
    "array = dataframe.values\n",
    "X = array[:, :-1]  # Adjust the indices if necessary\n",
    "Y = array[:, -1]   # Assuming the target variable is the last column\n",
    "\n",
    "# K-Fold Cross-Validation\n",
    "kfold = KFold(n_splits=10)\n",
    "model = LinearRegression()\n",
    "scoring = 'r2'\n",
    "results = cross_val_score(model, X, Y, cv=kfold, scoring=scoring)\n",
    "\n",
    "# Output the mean MAE\n",
    "print(results)\n",
    "print(abs(results.mean()))  # Use abs to convert from negative MAE"
   ]
  },
  {
   "cell_type": "markdown",
   "id": "8c63f5ba-5ffa-42a6-8a60-9477eb74c0fb",
   "metadata": {},
   "source": [
    "**The R2 (or R Squared) metric provides an indication of the goodness of t of a set of predictions\n",
    " to the actual values. In statistical literature this measure is called the coeffcient of determination.\n",
    " This is a value between 0 and 1 for no- fit and perfectly  fit respectively.**"
   ]
  },
  {
   "cell_type": "code",
   "execution_count": null,
   "id": "804eb326-7c34-4ffc-9369-d34c5f18b744",
   "metadata": {},
   "outputs": [],
   "source": []
  }
 ],
 "metadata": {
  "kernelspec": {
   "display_name": "Python 3 (ipykernel)",
   "language": "python",
   "name": "python3"
  },
  "language_info": {
   "codemirror_mode": {
    "name": "ipython",
    "version": 3
   },
   "file_extension": ".py",
   "mimetype": "text/x-python",
   "name": "python",
   "nbconvert_exporter": "python",
   "pygments_lexer": "ipython3",
   "version": "3.12.3"
  }
 },
 "nbformat": 4,
 "nbformat_minor": 5
}
